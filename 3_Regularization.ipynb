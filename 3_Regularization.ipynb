{
 "cells": [
  {
   "cell_type": "markdown",
   "metadata": {
    "colab_type": "text",
    "deletable": true,
    "editable": true,
    "id": "kR-4eNdK6lYS"
   },
   "source": [
    "Deep Learning\n",
    "=============\n",
    "\n",
    "\n",
    "The goal of this assignment is to explore regularization techniques."
   ]
  },
  {
   "cell_type": "code",
   "execution_count": 1,
   "metadata": {
    "cellView": "both",
    "colab": {
     "autoexec": {
      "startup": false,
      "wait_interval": 0
     }
    },
    "colab_type": "code",
    "collapsed": true,
    "deletable": true,
    "editable": true,
    "id": "JLpLa8Jt7Vu4"
   },
   "outputs": [],
   "source": [
    "# These are all the modules we'll be using later. Make sure you can import them\n",
    "# before proceeding further.\n",
    "%matplotlib inline\n",
    "import matplotlib.pylab as plt\n",
    "import numpy as np\n",
    "import tensorflow as tf\n",
    "import pickle"
   ]
  },
  {
   "cell_type": "markdown",
   "metadata": {
    "colab_type": "text",
    "deletable": true,
    "editable": true,
    "id": "1HrCK6e17WzV"
   },
   "source": [
    "First reload the data we generated in `1_notmnist.ipynb`."
   ]
  },
  {
   "cell_type": "code",
   "execution_count": 2,
   "metadata": {
    "cellView": "both",
    "colab": {
     "autoexec": {
      "startup": false,
      "wait_interval": 0
     },
     "output_extras": [
      {
       "item_id": 1
      }
     ]
    },
    "colab_type": "code",
    "collapsed": false,
    "deletable": true,
    "editable": true,
    "executionInfo": {
     "elapsed": 11777,
     "status": "ok",
     "timestamp": 1449849322348,
     "user": {
      "color": "",
      "displayName": "",
      "isAnonymous": false,
      "isMe": true,
      "permissionId": "",
      "photoUrl": "",
      "sessionId": "0",
      "userId": ""
     },
     "user_tz": 480
    },
    "id": "y3-cj1bpmuxc",
    "outputId": "e03576f1-ebbe-4838-c388-f1777bcc9873"
   },
   "outputs": [
    {
     "name": "stdout",
     "output_type": "stream",
     "text": [
      "Training set (200000, 28, 28) (200000,)\n",
      "Validation set (10000, 28, 28) (10000,)\n",
      "Test set (10000, 28, 28) (10000,)\n"
     ]
    }
   ],
   "source": [
    "pickle_file = 'notMNIST.pickle'\n",
    "\n",
    "with open(pickle_file, 'rb') as f:\n",
    "    saved = pickle.load(f)\n",
    "    for key, item in saved.items():\n",
    "        exec(key+'=item')\n",
    "    del saved  # hint to help gc free up memory\n",
    "    print('Training set', train_dataset.shape, train_labels.shape)\n",
    "    print('Validation set', valid_dataset.shape, valid_labels.shape)\n",
    "    print('Test set', test_dataset.shape, test_labels.shape)"
   ]
  },
  {
   "cell_type": "markdown",
   "metadata": {
    "colab_type": "text",
    "deletable": true,
    "editable": true,
    "id": "L7aHrm6nGDMB"
   },
   "source": [
    "Reformat into a shape that's more adapted to the models we're going to train:\n",
    "- data as a flat matrix,\n",
    "- labels as float 1-hot encodings."
   ]
  },
  {
   "cell_type": "code",
   "execution_count": 3,
   "metadata": {
    "cellView": "both",
    "colab": {
     "autoexec": {
      "startup": false,
      "wait_interval": 0
     },
     "output_extras": [
      {
       "item_id": 1
      }
     ]
    },
    "colab_type": "code",
    "collapsed": false,
    "deletable": true,
    "editable": true,
    "executionInfo": {
     "elapsed": 11728,
     "status": "ok",
     "timestamp": 1449849322356,
     "user": {
      "color": "",
      "displayName": "",
      "isAnonymous": false,
      "isMe": true,
      "permissionId": "",
      "photoUrl": "",
      "sessionId": "0",
      "userId": ""
     },
     "user_tz": 480
    },
    "id": "IRSyYiIIGIzS",
    "outputId": "3f8996ee-3574-4f44-c953-5c8a04636582"
   },
   "outputs": [
    {
     "name": "stdout",
     "output_type": "stream",
     "text": [
      "Training set (200000, 784) (200000, 10)\n",
      "Validation set (10000, 784) (10000, 10)\n",
      "Test set (10000, 784) (10000, 10)\n"
     ]
    }
   ],
   "source": [
    "image_size = 28\n",
    "num_labels = 10\n",
    "\n",
    "def reformat(dataset, labels):\n",
    "    dataset = dataset.reshape([-1, image_size * image_size]).astype(np.float32)\n",
    "    # Map 0 to [1.0, 0.0, 0.0 ...], 1 to [0.0, 1.0, 0.0 ...]\n",
    "    labels = (np.arange(num_labels)==labels[:,np.newaxis]).astype(np.float32)\n",
    "    return dataset, labels\n",
    "\n",
    "train_dataset, train_labels = reformat(train_dataset, train_labels)\n",
    "valid_dataset, valid_labels = reformat(valid_dataset, valid_labels)\n",
    "test_dataset, test_labels = reformat(test_dataset, test_labels)\n",
    "print('Training set', train_dataset.shape, train_labels.shape)\n",
    "print('Validation set', valid_dataset.shape, valid_labels.shape)\n",
    "print('Test set', test_dataset.shape, test_labels.shape)"
   ]
  },
  {
   "cell_type": "code",
   "execution_count": 4,
   "metadata": {
    "cellView": "both",
    "colab": {
     "autoexec": {
      "startup": false,
      "wait_interval": 0
     }
    },
    "colab_type": "code",
    "collapsed": true,
    "deletable": true,
    "editable": true,
    "id": "RajPLaL_ZW6w"
   },
   "outputs": [],
   "source": [
    "def accuracy(predictions, labels):\n",
    "    return (100.0 * np.sum(np.argmax(predictions, 1) == np.argmax(labels, 1))\n",
    "              / predictions.shape[0])"
   ]
  },
  {
   "cell_type": "markdown",
   "metadata": {
    "colab_type": "text",
    "deletable": true,
    "editable": true,
    "id": "sgLbUAQ1CW-1"
   },
   "source": [
    "\n",
    "## L2 regularization\n",
    "\n",
    "\n",
    "Introduce and tune L2 regularization for both logistic and neural network models. Remember that L2 amounts to adding a penalty on the norm of the weights to the loss. In TensorFlow, you can compute the L2 loss for a tensor `t` using `nn.l2_loss(t)`. The right amount of regularization should improve your validation / test accuracy.\n",
    "\n",
    "---"
   ]
  },
  {
   "cell_type": "markdown",
   "metadata": {
    "deletable": true,
    "editable": true
   },
   "source": [
    "### 1 Logistic regression"
   ]
  },
  {
   "cell_type": "code",
   "execution_count": 5,
   "metadata": {
    "collapsed": true,
    "deletable": true,
    "editable": true
   },
   "outputs": [],
   "source": [
    "batch_size = 128\n",
    "\n",
    "graph = tf.Graph()\n",
    "with graph.as_default():\n",
    "\n",
    "    # Input data. For the training data, we use a placeholder that will be fed\n",
    "    # at run time with a training minibatch.\n",
    "    tf_train_dataset = tf.placeholder(tf.float32,\n",
    "                                    shape=(batch_size, image_size * image_size))\n",
    "    tf_train_labels = tf.placeholder(tf.float32, shape=(batch_size, num_labels))\n",
    "    tf_valid_dataset = tf.constant(valid_dataset)\n",
    "    tf_test_dataset = tf.constant(test_dataset)\n",
    "  \n",
    "    # Variables.\n",
    "    weights = tf.Variable(\n",
    "            tf.truncated_normal([image_size * image_size, num_labels]))\n",
    "    biases = tf.Variable(tf.zeros([num_labels]))\n",
    "    lam    = tf.placeholder(tf.float32)\n",
    "  \n",
    "    # Training computation.\n",
    "    logits = tf.matmul(tf_train_dataset, weights) + biases\n",
    "    loss = tf.reduce_mean(\n",
    "            tf.nn.softmax_cross_entropy_with_logits(labels=tf_train_labels, logits=logits)) + \\\n",
    "            lam*tf.nn.l2_loss(weights)\n",
    "  \n",
    "    # Optimizer.\n",
    "    optimizer = tf.train.GradientDescentOptimizer(0.5).minimize(loss)\n",
    "  \n",
    "    # Predictions for the training, validation, and test data.\n",
    "    train_prediction = tf.nn.softmax(logits)\n",
    "    valid_prediction = tf.nn.softmax(\n",
    "            tf.matmul(tf_valid_dataset, weights) + biases)\n",
    "    test_prediction = tf.nn.softmax(tf.matmul(tf_test_dataset, weights) + biases)"
   ]
  },
  {
   "cell_type": "code",
   "execution_count": 6,
   "metadata": {
    "collapsed": false,
    "deletable": true,
    "editable": true
   },
   "outputs": [
    {
     "name": "stdout",
     "output_type": "stream",
     "text": [
      "Lambda =  0.0\n",
      "Lambda =  0.0005\n",
      "Lambda =  0.001\n",
      "Lambda =  0.0015\n",
      "Lambda =  0.002\n",
      "Lambda =  0.0025\n",
      "Lambda =  0.003\n",
      "Lambda =  0.0035\n",
      "Lambda =  0.004\n",
      "Lambda =  0.0045\n"
     ]
    }
   ],
   "source": [
    "num_steps = 3001\n",
    "\n",
    "batch_accuracy = []\n",
    "valid_accuracy = []\n",
    "test_accuracy  = []\n",
    "lams = np.arange(0,0.005,0.0005,dtype=np.float32)\n",
    "\n",
    "with tf.Session(graph=graph) as session:\n",
    "    for lam0 in lams:\n",
    "        tf.global_variables_initializer().run()\n",
    "        for step in range(num_steps):\n",
    "            # Pick an offset within the training data, which has been randomized.\n",
    "            # Note: we could use better randomization across epochs.\n",
    "            offset = (step * batch_size) % (train_labels.shape[0] - batch_size)\n",
    "            # Generate a minibatch.\n",
    "            batch_data = train_dataset[offset:(offset + batch_size), :]\n",
    "            batch_labels = train_labels[offset:(offset + batch_size), :]\n",
    "            # Prepare a dictionary telling the session where to feed the minibatch.\n",
    "            # The key of the dictionary is the placeholder node of the graph to be fed,\n",
    "            # and the value is the numpy array to feed to it.\n",
    "            feed_dict = {tf_train_dataset : batch_data, tf_train_labels : batch_labels, lam : lam0}\n",
    "            _, l, predictions = session.run(\n",
    "                  [optimizer, loss, train_prediction], feed_dict=feed_dict)\n",
    "            #if (step % 500 == 0):\n",
    "            #    print(\"Minibatch loss at step %d: %f\" % (step, l))\n",
    "            #    print(\"Minibatch accuracy: %.1f%%\" % accuracy(predictions, batch_labels))\n",
    "            #    print(\"Validation accuracy: %.1f%%\" % accuracy(\n",
    "            #        valid_prediction.eval(), valid_labels))\n",
    "        batch_accuracy.append(accuracy(predictions,batch_labels))\n",
    "        valid_accuracy.append(accuracy(valid_prediction.eval(), valid_labels))\n",
    "        test_accuracy.append(accuracy(test_prediction.eval(), test_labels))\n",
    "        print('Lambda = ',lam0)\n"
   ]
  },
  {
   "cell_type": "code",
   "execution_count": 7,
   "metadata": {
    "collapsed": false,
    "deletable": true,
    "editable": true
   },
   "outputs": [
    {
     "data": {
      "image/png": "[encoded data removed]",
      "text/plain": [
       "<matplotlib.figure.Figure at 0x7f9786ef8a90>"
      ]
     },
     "metadata": {},
     "output_type": "display_data"
    }
   ],
   "source": [
    "plt.plot(lams,valid_accuracy,label='Valid')\n",
    "plt.plot(lams,test_accuracy,label='Test')\n",
    "plt.plot(lams,batch_accuracy,label='Minibatch')\n",
    "plt.xlabel('$\\lambda$')\n",
    "plt.legend()\n",
    "plt.grid()\n",
    "plt.title('Accuracy');"
   ]
  },
  {
   "cell_type": "markdown",
   "metadata": {
    "deletable": true,
    "editable": true
   },
   "source": [
    "---\n",
    "### Neural Network"
   ]
  },
  {
   "cell_type": "code",
   "execution_count": 8,
   "metadata": {
    "collapsed": true,
    "deletable": true,
    "editable": true
   },
   "outputs": [],
   "source": [
    "batch_size = 128\n",
    "num_hidden = 1024\n",
    "\n",
    "graph = tf.Graph()\n",
    "with graph.as_default():\n",
    "\n",
    "    # Input data. For the training data, we use a placeholder that will be fed\n",
    "    # at run time with a training minibatch.\n",
    "    tf_train_dataset = tf.placeholder(tf.float32,\n",
    "                                    shape=(batch_size, image_size * image_size))\n",
    "    tf_train_labels = tf.placeholder(tf.float32, shape=(batch_size, num_labels))\n",
    "    tf_valid_dataset = tf.constant(valid_dataset)\n",
    "    tf_test_dataset = tf.constant(test_dataset)\n",
    "  \n",
    "    # Variables.\n",
    "    weights = tf.Variable(\n",
    "            tf.truncated_normal([image_size * image_size, num_hidden]))\n",
    "    biases  = tf.Variable(tf.zeros([num_hidden]))\n",
    "  \n",
    "    weights_hidden = tf.Variable(\n",
    "            tf.truncated_normal([num_hidden, num_labels]))\n",
    "    biases_hidden  = tf.Variable(tf.zeros([num_labels]))\n",
    "    lam    = tf.placeholder(tf.float32)\n",
    "\n",
    "    # Training computation.\n",
    "    z      = tf.nn.relu(tf.matmul(tf_train_dataset, weights) + biases)\n",
    "    logits = tf.matmul(z, weights_hidden) + biases_hidden\n",
    "    loss = tf.reduce_mean(\n",
    "            tf.nn.softmax_cross_entropy_with_logits(labels=tf_train_labels, logits=logits)) + \\\n",
    "            lam*(tf.nn.l2_loss(weights)+tf.nn.l2_loss(weights_hidden))\n",
    "  \n",
    "    # Optimizer.\n",
    "    optimizer = tf.train.GradientDescentOptimizer(0.5).minimize(loss)\n",
    "  \n",
    "    # Predictions for the training, validation, and test data.\n",
    "    train_prediction = tf.nn.softmax(logits)\n",
    "    \n",
    "    z=tf.nn.relu(tf.matmul(tf_valid_dataset, weights) + biases)\n",
    "    valid_prediction = tf.nn.softmax(tf.matmul(z,weights_hidden)+biases_hidden)\n",
    "    \n",
    "    z=tf.nn.relu(tf.matmul(tf_test_dataset, weights) + biases)\n",
    "    test_prediction = tf.nn.softmax(tf.matmul(z, weights_hidden) + biases_hidden)"
   ]
  },
  {
   "cell_type": "code",
   "execution_count": 9,
   "metadata": {
    "collapsed": false,
    "deletable": true,
    "editable": true
   },
   "outputs": [
    {
     "name": "stdout",
     "output_type": "stream",
     "text": [
      "Lambda =  0.0\n",
      "Lambda =  0.0005\n",
      "Lambda =  0.001\n",
      "Lambda =  0.0015\n",
      "Lambda =  0.002\n",
      "Lambda =  0.0025\n",
      "Lambda =  0.003\n",
      "Lambda =  0.0035\n",
      "Lambda =  0.004\n",
      "Lambda =  0.0045\n"
     ]
    }
   ],
   "source": [
    "num_steps = 3001\n",
    "\n",
    "valid_accuracy = []\n",
    "test_accuracy  = []\n",
    "batch_accuracy = []\n",
    "lams = np.arange(0,0.005,0.0005,dtype=np.float32)\n",
    "\n",
    "with tf.Session(graph=graph) as session:\n",
    "    for lam0 in lams:\n",
    "        tf.global_variables_initializer().run()\n",
    "        for step in range(num_steps):\n",
    "            # Pick an offset within the training data, which has been randomized.\n",
    "            # Note: we could use better randomization across epochs.\n",
    "            offset = (step * batch_size) % (train_labels.shape[0] - batch_size)\n",
    "            # Generate a minibatch.\n",
    "            batch_data = train_dataset[offset:(offset + batch_size), :]\n",
    "            batch_labels = train_labels[offset:(offset + batch_size), :]\n",
    "            # Prepare a dictionary telling the session where to feed the minibatch.\n",
    "            # The key of the dictionary is the placeholder node of the graph to be fed,\n",
    "            # and the value is the numpy array to feed to it.\n",
    "            feed_dict = {tf_train_dataset : batch_data, tf_train_labels : batch_labels, lam : lam0}\n",
    "            _, l, predictions = session.run(\n",
    "                  [optimizer, loss, train_prediction], feed_dict=feed_dict)\n",
    "            #if (step % 500 == 0):\n",
    "            #    print(\"Minibatch loss at step %d: %f\" % (step, l))\n",
    "            #    print(\"Minibatch accuracy: %.1f%%\" % accuracy(predictions, batch_labels))\n",
    "            #    print(\"Validation accuracy: %.1f%%\" % accuracy(\n",
    "            #        valid_prediction.eval(), valid_labels))\n",
    "        batch_accuracy.append(accuracy(predictions,batch_labels))\n",
    "        valid_accuracy.append(accuracy(valid_prediction.eval(), valid_labels))\n",
    "        test_accuracy.append(accuracy(test_prediction.eval(), test_labels))\n",
    "        print('Lambda = ',lam0)"
   ]
  },
  {
   "cell_type": "code",
   "execution_count": 10,
   "metadata": {
    "collapsed": false,
    "deletable": true,
    "editable": true,
    "scrolled": true
   },
   "outputs": [
    {
     "data": {
      "image/png": "[encoded data removed]",
      "text/plain": [
       "<matplotlib.figure.Figure at 0x7f9786af7ba8>"
      ]
     },
     "metadata": {},
     "output_type": "display_data"
    }
   ],
   "source": [
    "plt.plot(lams,valid_accuracy,label='Valid')\n",
    "plt.plot(lams,test_accuracy,label='Test')\n",
    "plt.plot(lams,batch_accuracy,label='Minibatch')\n",
    "plt.xlabel('$\\lambda$')\n",
    "plt.legend()\n",
    "plt.grid()\n",
    "plt.title('Accuracy');"
   ]
  },
  {
   "cell_type": "markdown",
   "metadata": {
    "colab_type": "text",
    "deletable": true,
    "editable": true,
    "id": "ww3SCBUdlkRc"
   },
   "source": [
    "---\n",
    "Introduce Dropout on the hidden layer of the neural network. Remember: Dropout should only be introduced during training, not evaluation, otherwise your evaluation results would be stochastic as well. TensorFlow provides `nn.dropout()` for that, but you have to make sure it's only inserted during training.\n",
    "\n"
   ]
  },
  {
   "cell_type": "code",
   "execution_count": 54,
   "metadata": {
    "collapsed": true,
    "deletable": true,
    "editable": true
   },
   "outputs": [],
   "source": [
    "batch_size = 128\n",
    "num_hidden = 1024\n",
    "\n",
    "graph = tf.Graph()\n",
    "with graph.as_default():\n",
    "\n",
    "    # Input data. For the training data, we use a placeholder that will be fed\n",
    "    # at run time with a training minibatch.\n",
    "    tf_train_dataset = tf.placeholder(tf.float32,\n",
    "                                    shape=(batch_size, image_size * image_size))\n",
    "    tf_train_labels = tf.placeholder(tf.float32, shape=(batch_size, num_labels))\n",
    "    tf_valid_dataset = tf.constant(valid_dataset)\n",
    "    tf_test_dataset = tf.constant(test_dataset)\n",
    "    lam    = tf.constant(0.0015)\n",
    "  \n",
    "    # Variables.\n",
    "    weights = tf.Variable(\n",
    "            tf.truncated_normal([image_size * image_size, num_hidden]))\n",
    "    biases  = tf.Variable(tf.zeros([num_hidden]))\n",
    "  \n",
    "    weights_hidden = tf.Variable(\n",
    "            tf.truncated_normal([num_hidden, num_labels]))\n",
    "    biases_hidden  = tf.Variable(tf.zeros([num_labels]))\n",
    "    prob = tf.placeholder(tf.float32)\n",
    "\n",
    "    # Training computation.\n",
    "    z      = tf.nn.dropout(tf.nn.relu(tf.matmul(tf_train_dataset, weights) + biases),prob)\n",
    "    logits = tf.matmul(z, weights_hidden) + biases_hidden\n",
    "    loss = tf.reduce_mean(\n",
    "            tf.nn.softmax_cross_entropy_with_logits(labels=tf_train_labels, logits=logits)) + \\\n",
    "            lam*(tf.nn.l2_loss(weights)+tf.nn.l2_loss(weights_hidden))\n",
    "  \n",
    "    # Optimizer.\n",
    "    optimizer = tf.train.GradientDescentOptimizer(0.5).minimize(loss)\n",
    "  \n",
    "    # Predictions for the training, validation, and test data.\n",
    "    train_prediction = tf.nn.softmax(logits)\n",
    "    \n",
    "    z=tf.nn.relu(tf.matmul(tf_valid_dataset, weights) + biases)\n",
    "    valid_prediction = tf.nn.softmax(tf.matmul(z,weights_hidden)+biases_hidden)\n",
    "    \n",
    "    z=tf.nn.relu(tf.matmul(tf_test_dataset, weights) + biases)\n",
    "    test_prediction = tf.nn.softmax(tf.matmul(z, weights_hidden) + biases_hidden)"
   ]
  },
  {
   "cell_type": "code",
   "execution_count": 58,
   "metadata": {
    "collapsed": false,
    "deletable": true,
    "editable": true
   },
   "outputs": [
    {
     "name": "stdout",
     "output_type": "stream",
     "text": [
      "Minibatch accuracy: 90.6% \n",
      "Validation accurcay: 86.5%\n",
      "Test accuracy: 92.7%\n"
     ]
    }
   ],
   "source": [
    "num_steps = 3001\n",
    "\n",
    "with tf.Session(graph=graph) as session:\n",
    "        tf.global_variables_initializer().run()\n",
    "        for step in range(num_steps):\n",
    "            # Pick an offset within the training data, which has been randomized.\n",
    "            # Note: we could use better randomization across epochs.\n",
    "            offset = (step * batch_size) % (train_labels.shape[0] - batch_size)\n",
    "            # Generate a minibatch.\n",
    "            batch_data = train_dataset[offset:(offset + batch_size), :]\n",
    "            batch_labels = train_labels[offset:(offset + batch_size), :]\n",
    "            # Prepare a dictionary telling the session where to feed the minibatch.\n",
    "            # The key of the dictionary is the placeholder node of the graph to be fed,\n",
    "            # and the value is the numpy array to feed to it.\n",
    "            feed_dict = {tf_train_dataset : batch_data, tf_train_labels : batch_labels, prob : 1.0}\n",
    "            _, l, predictions = session.run(\n",
    "                  [optimizer, loss, train_prediction], feed_dict=feed_dict)\n",
    "            #if (step % 500 == 0):\n",
    "            #    print(\"Minibatch loss at step %d: %f\" % (step, l))\n",
    "            #    print(\"Minibatch accuracy: %.1f%%\" % accuracy(predictions, batch_labels))\n",
    "            #    print(\"Validation accuracy: %.1f%%\" % accuracy(\n",
    "            #        valid_prediction.eval(), valid_labels))\n",
    "        \n",
    "        print(\"Minibatch accuracy: %.1f%% \" % accuracy(predictions, batch_labels))\n",
    "        print('Validation accurcay: %.1f%%' % accuracy(valid_prediction.eval(), valid_labels))\n",
    "        print('Test accuracy: %.1f%%' % accuracy(test_prediction.eval(), test_labels))"
   ]
  },
  {
   "cell_type": "code",
   "execution_count": 61,
   "metadata": {
    "collapsed": false,
    "deletable": true,
    "editable": true
   },
   "outputs": [
    {
     "name": "stdout",
     "output_type": "stream",
     "text": [
      "Minibatch accuracy: 87.5% \n",
      "Validation accurcay: 85.8%\n",
      "Test accuracy: 92.2%\n"
     ]
    }
   ],
   "source": [
    "num_steps = 3001\n",
    "\n",
    "with tf.Session(graph=graph) as session:\n",
    "        tf.global_variables_initializer().run()\n",
    "        for step in range(num_steps):\n",
    "            # Pick an offset within the training data, which has been randomized.\n",
    "            # Note: we could use better randomization across epochs.\n",
    "            offset = (step * batch_size) % (train_labels.shape[0] - batch_size)\n",
    "            # Generate a minibatch.\n",
    "            batch_data = train_dataset[offset:(offset + batch_size), :]\n",
    "            batch_labels = train_labels[offset:(offset + batch_size), :]\n",
    "            # Prepare a dictionary telling the session where to feed the minibatch.\n",
    "            # The key of the dictionary is the placeholder node of the graph to be fed,\n",
    "            # and the value is the numpy array to feed to it.\n",
    "            feed_dict = {tf_train_dataset : batch_data, tf_train_labels : batch_labels, prob : 0.5}\n",
    "            _, l, predictions = session.run(\n",
    "                  [optimizer, loss, train_prediction], feed_dict=feed_dict)\n",
    "            #if (step % 500 == 0):\n",
    "            #    print(\"Minibatch loss at step %d: %f\" % (step, l))\n",
    "            #    print(\"Minibatch accuracy: %.1f%%\" % accuracy(predictions, batch_labels))\n",
    "            #    print(\"Validation accuracy: %.1f%%\" % accuracy(\n",
    "            #        valid_prediction.eval(), valid_labels))\n",
    "        \n",
    "        print(\"Minibatch accuracy: %.1f%% \" % accuracy(predictions, batch_labels))\n",
    "        print('Validation accurcay: %.1f%%' % accuracy(valid_prediction.eval(), valid_labels))\n",
    "        print('Test accuracy: %.1f%%' % accuracy(test_prediction.eval(), test_labels))"
   ]
  },
  {
   "cell_type": "markdown",
   "metadata": {
    "colab_type": "text",
    "deletable": true,
    "editable": true,
    "id": "-b1hTz3VWZjw"
   },
   "source": [
    "\n",
    "Now let's try to get the best performance you can using a multi-layer model! The best reported test accuracy using a deep network is [97.1%](http://yaroslavvb.blogspot.com/2011/09/notmnist-dataset.html?showComment=1391023266211#c8758720086795711595).\n",
    "\n",
    "One avenue you can explore is to add multiple layers.\n",
    "\n",
    "Another one is to use learning rate decay:\n",
    "\n",
    "    global_step = tf.Variable(0)  # count the number of steps taken.\n",
    "    learning_rate = tf.train.exponential_decay(0.5, global_step, ...)\n",
    "    optimizer = tf.train.GradientDescentOptimizer(learning_rate).minimize(loss, global_step=global_step)\n",
    " \n",
    " ---\n"
   ]
  },
  {
   "cell_type": "code",
   "execution_count": 52,
   "metadata": {
    "collapsed": false
   },
   "outputs": [],
   "source": [
    "batch_size = 200\n",
    "num_hidden1 = 50\n",
    "num_hidden2 = 50\n",
    "\n",
    "graph = tf.Graph()\n",
    "with graph.as_default():\n",
    "\n",
    "    # Input data. For the training data, we use a placeholder that will be fed\n",
    "    # at run time with a training minibatch.\n",
    "    tf_train_dataset = tf.placeholder(tf.float32,\n",
    "                                    shape=(batch_size, image_size * image_size))\n",
    "    tf_train_labels = tf.placeholder(tf.float32, shape=(batch_size, num_labels))\n",
    "    tf_valid_dataset = tf.constant(valid_dataset)\n",
    "    tf_test_dataset = tf.constant(test_dataset)\n",
    "    lam    = tf.constant(0.0015)\n",
    "  \n",
    "    # Variables.\n",
    "    global_step = tf.Variable(0,trainable=False)  # count the number of steps taken.\n",
    "    weights = tf.Variable(\n",
    "            tf.truncated_normal([image_size * image_size, num_hidden1],stddev=1/tf.sqrt(1.0*num_hidden1)))\n",
    "    biases  = tf.Variable(tf.zeros([num_hidden1]))\n",
    "  \n",
    "    weights_hidden1 = tf.Variable(\n",
    "            tf.truncated_normal([num_hidden1, num_hidden2],stddev=1/tf.sqrt(1.0*num_hidden2)))\n",
    "    biases_hidden1  = tf.Variable(tf.zeros([num_hidden2]))\n",
    "    \n",
    "    weights_hidden2 = tf.Variable(\n",
    "            tf.truncated_normal([num_hidden2, num_labels]))\n",
    "    biases_hidden2  = tf.Variable(tf.zeros([num_labels]))\n",
    "    \n",
    "    \n",
    "    prob = tf.placeholder(tf.float32)\n",
    "\n",
    "    # Training computation.\n",
    "    z1      = tf.nn.dropout(tf.nn.relu(tf.matmul(tf_train_dataset, weights) + biases),prob)\n",
    "    z2      = tf.nn.dropout(tf.nn.relu(tf.matmul(z1, weights_hidden1) + biases_hidden1),prob)\n",
    "    logits  = tf.matmul(z2, weights_hidden2) + biases_hidden2\n",
    "\n",
    "    loss = tf.reduce_mean(\n",
    "            tf.nn.softmax_cross_entropy_with_logits(labels=tf_train_labels, logits=logits)) + \\\n",
    "            lam*(tf.nn.l2_loss(weights)+tf.nn.l2_loss(weights_hidden1)+tf.nn.l2_loss(weights_hidden2))\n",
    "  \n",
    "    # Optimizer.\n",
    "    \n",
    "    learning_rate = tf.train.exponential_decay(0.5, global_step,\n",
    "                                           100, 0.95, staircase=True)\n",
    "    \n",
    "    optimizer = tf.train.GradientDescentOptimizer(learning_rate).minimize(loss,global_step=global_step)\n",
    "  \n",
    "    # Predictions for the training, validation, and test data.\n",
    "    train_prediction = tf.nn.softmax(logits)\n",
    "    \n",
    "    z1=tf.nn.relu(tf.matmul(tf_valid_dataset, weights) + biases)\n",
    "    z2=tf.nn.relu(tf.matmul(z1, weights_hidden1) + biases_hidden1)\n",
    "    valid_prediction = tf.nn.softmax(tf.matmul(z2,weights_hidden2)+biases_hidden2)\n",
    "    \n",
    "    z1=tf.nn.relu(tf.matmul(tf_test_dataset, weights) + biases)\n",
    "    z2=tf.nn.relu(tf.matmul(z1, weights_hidden1) + biases_hidden1)\n",
    "    test_prediction = tf.nn.softmax(tf.matmul(z2, weights_hidden2) + biases_hidden2)"
   ]
  },
  {
   "cell_type": "code",
   "execution_count": 51,
   "metadata": {
    "collapsed": false
   },
   "outputs": [
    {
     "data": {
      "text/plain": [
       "0.10731938197146863"
      ]
     },
     "execution_count": 51,
     "metadata": {},
     "output_type": "execute_result"
    }
   ],
   "source": [
    "0.5*0.95**(3000//100)"
   ]
  },
  {
   "cell_type": "code",
   "execution_count": 53,
   "metadata": {
    "collapsed": false
   },
   "outputs": [
    {
     "name": "stdout",
     "output_type": "stream",
     "text": [
      "Lambda =  0.0\n",
      "Lambda =  0.0005\n",
      "Lambda =  0.001\n",
      "Lambda =  0.0015\n",
      "Lambda =  0.002\n",
      "Lambda =  0.0025\n",
      "Lambda =  0.003\n",
      "Lambda =  0.0035\n",
      "Lambda =  0.004\n",
      "Lambda =  0.0045\n"
     ]
    }
   ],
   "source": [
    "num_steps = 3001\n",
    "\n",
    "valid_accuracy = []\n",
    "test_accuracy  = []\n",
    "batch_accuracy = []\n",
    "lams = np.arange(0,0.005,0.0005,dtype=np.float32)\n",
    "\n",
    "with tf.Session(graph=graph) as session:\n",
    "    for lam0 in lams:\n",
    "        tf.global_variables_initializer().run()\n",
    "        for step in range(num_steps):\n",
    "            # Pick an offset within the training data, which has been randomized.\n",
    "            # Note: we could use better randomization across epochs.\n",
    "            offset = (step * batch_size) % (train_labels.shape[0] - batch_size)\n",
    "            # Generate a minibatch.\n",
    "            batch_data = train_dataset[offset:(offset + batch_size), :]\n",
    "            batch_labels = train_labels[offset:(offset + batch_size), :]\n",
    "            \n",
    "            feed_dict = {tf_train_dataset : batch_data, tf_train_labels : batch_labels, lam : lam0, prob:1.0}\n",
    "            _, l, predictions = session.run(\n",
    "                  [optimizer, loss, train_prediction], feed_dict=feed_dict)\n",
    "            \n",
    "        batch_accuracy.append(accuracy(predictions,batch_labels))\n",
    "        valid_accuracy.append(accuracy(valid_prediction.eval(), valid_labels))\n",
    "        test_accuracy.append(accuracy(test_prediction.eval(), test_labels))\n",
    "        print('Lambda = ',lam0)"
   ]
  },
  {
   "cell_type": "code",
   "execution_count": 54,
   "metadata": {
    "collapsed": false
   },
   "outputs": [
    {
     "data": {
      "image/png": "[encoded data removed]",
      "text/plain": [
       "<matplotlib.figure.Figure at 0x7f96e5e5ee80>"
      ]
     },
     "metadata": {},
     "output_type": "display_data"
    }
   ],
   "source": [
    "plt.plot(lams,valid_accuracy,label='Valid')\n",
    "plt.plot(lams,test_accuracy,label='Test')\n",
    "plt.plot(lams,batch_accuracy,label='Minibatch')\n",
    "plt.xlabel('$\\lambda$')\n",
    "plt.ylim([80,100])\n",
    "plt.legend()\n",
    "plt.grid()\n",
    "plt.title('Accuracy');"
   ]
  }
 ],
 "metadata": {
  "colab": {
   "default_view": {},
   "name": "3_regularization.ipynb",
   "provenance": [],
   "version": "0.3.2",
   "views": {}
  },
  "kernelspec": {
   "display_name": "Python 3",
   "language": "python",
   "name": "python3"
  },
  "language_info": {
   "codemirror_mode": {
    "name": "ipython",
    "version": 3
   },
   "file_extension": ".py",
   "mimetype": "text/x-python",
   "name": "python",
   "nbconvert_exporter": "python",
   "pygments_lexer": "ipython3",
   "version": "3.6.0"
  }
 },
 "nbformat": 4,
 "nbformat_minor": 0
}
